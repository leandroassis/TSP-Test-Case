{
 "cells": [
  {
   "cell_type": "code",
   "execution_count": 1,
   "metadata": {},
   "outputs": [],
   "source": [
    "from TimeStampLib import TimeStampRequest, parse_tsr\n",
    "\n",
    "from pyasn1_modules.rfc2459 import Extensions\n",
    "from pyasn1.type import tag\n",
    "\n",
    "PATH_CERTIFICADO = \"certificado.pem\""
   ]
  },
  {
   "cell_type": "code",
   "execution_count": 2,
   "metadata": {},
   "outputs": [
    {
     "name": "stdout",
     "output_type": "stream",
     "text": [
      "Status Infos\n",
      "Status:  granted\n"
     ]
    },
    {
     "ename": "KeyError",
     "evalue": "'No field named \"failInfo\" defined for asn1crypto.tsp.PKIStatusInfo'",
     "output_type": "error",
     "traceback": [
      "\u001b[0;31m---------------------------------------------------------------------------\u001b[0m",
      "\u001b[0;31mKeyError\u001b[0m                                  Traceback (most recent call last)",
      "Cell \u001b[0;32mIn[2], line 12\u001b[0m\n\u001b[1;32m      7\u001b[0m request \u001b[38;5;241m=\u001b[39m TimeStampRequest(data\u001b[38;5;241m=\u001b[39m\u001b[38;5;124m\"\u001b[39m\u001b[38;5;124mtexto\u001b[39m\u001b[38;5;124m\"\u001b[39m, \\\n\u001b[1;32m      8\u001b[0m                            url\u001b[38;5;241m=\u001b[39m\u001b[38;5;124m\"\u001b[39m\u001b[38;5;124mhttp://192.168.88.25/tsp\u001b[39m\u001b[38;5;124m\"\u001b[39m, \\\n\u001b[1;32m      9\u001b[0m                            )\n\u001b[1;32m     11\u001b[0m tsr \u001b[38;5;241m=\u001b[39m request\u001b[38;5;241m.\u001b[39msend_query()\n\u001b[0;32m---> 12\u001b[0m \u001b[43mparse_tsr\u001b[49m\u001b[43m(\u001b[49m\u001b[43mtsr\u001b[49m\u001b[43m)\u001b[49m\n",
      "File \u001b[0;32m~/Documents/UFRJ/LASPI/bry_tsr/TimeStampLib.py:156\u001b[0m, in \u001b[0;36mparse_tsr\u001b[0;34m(tsr)\u001b[0m\n\u001b[1;32m    154\u001b[0m     \u001b[38;5;28mprint\u001b[39m(\u001b[38;5;124m\"\u001b[39m\u001b[38;5;124mStatus Infos\u001b[39m\u001b[38;5;124m\"\u001b[39m)\n\u001b[1;32m    155\u001b[0m     \u001b[38;5;28mprint\u001b[39m (\u001b[38;5;124m'\u001b[39m\u001b[38;5;124mStatus: \u001b[39m\u001b[38;5;124m'\u001b[39m, tspObj[\u001b[38;5;124m'\u001b[39m\u001b[38;5;124mstatus\u001b[39m\u001b[38;5;124m'\u001b[39m][\u001b[38;5;124m'\u001b[39m\u001b[38;5;124mstatus\u001b[39m\u001b[38;5;124m'\u001b[39m]\u001b[38;5;241m.\u001b[39mnative)\n\u001b[0;32m--> 156\u001b[0m     \u001b[38;5;28mprint\u001b[39m(\u001b[38;5;124m'\u001b[39m\u001b[38;5;124mFailureInfo: \u001b[39m\u001b[38;5;124m'\u001b[39m, \u001b[43mtspObj\u001b[49m\u001b[43m[\u001b[49m\u001b[38;5;124;43m'\u001b[39;49m\u001b[38;5;124;43mstatus\u001b[39;49m\u001b[38;5;124;43m'\u001b[39;49m\u001b[43m]\u001b[49m\u001b[43m[\u001b[49m\u001b[38;5;124;43m'\u001b[39;49m\u001b[38;5;124;43mfailInfo\u001b[39;49m\u001b[38;5;124;43m'\u001b[39;49m\u001b[43m]\u001b[49m\u001b[38;5;241m.\u001b[39mnative)\n\u001b[1;32m    157\u001b[0m     \u001b[38;5;28mprint\u001b[39m(\u001b[38;5;124m'\u001b[39m\u001b[38;5;124mStatusString: \u001b[39m\u001b[38;5;124m'\u001b[39m, tspObj[\u001b[38;5;124m'\u001b[39m\u001b[38;5;124mstatus\u001b[39m\u001b[38;5;124m'\u001b[39m][\u001b[38;5;124m'\u001b[39m\u001b[38;5;124mstatusString\u001b[39m\u001b[38;5;124m'\u001b[39m]\u001b[38;5;241m.\u001b[39mnative)\n\u001b[1;32m    159\u001b[0m     \u001b[38;5;124;03m'''\u001b[39;00m\n\u001b[1;32m    160\u001b[0m \u001b[38;5;124;03m\t# Recupera obj TstInfo\u001b[39;00m\n\u001b[1;32m    161\u001b[0m \u001b[38;5;124;03m\ttimeStampToken = tspObj['time_stamp_token']\u001b[39;00m\n\u001b[0;32m   (...)\u001b[0m\n\u001b[1;32m    177\u001b[0m \u001b[38;5;124;03m\t\tprint(\"     \", key, \": \", tsaOrderedDict[key])\u001b[39;00m\n\u001b[1;32m    178\u001b[0m \u001b[38;5;124;03m    '''\u001b[39;00m\n",
      "File \u001b[0;32m~/.local/lib/python3.10/site-packages/asn1crypto/core.py:3512\u001b[0m, in \u001b[0;36mSequence.__getitem__\u001b[0;34m(self, key)\u001b[0m\n\u001b[1;32m   3510\u001b[0m \u001b[38;5;28;01mif\u001b[39;00m \u001b[38;5;129;01mnot\u001b[39;00m \u001b[38;5;28misinstance\u001b[39m(key, int_types):\n\u001b[1;32m   3511\u001b[0m     \u001b[38;5;28;01mif\u001b[39;00m key \u001b[38;5;129;01mnot\u001b[39;00m \u001b[38;5;129;01min\u001b[39;00m \u001b[38;5;28mself\u001b[39m\u001b[38;5;241m.\u001b[39m_field_map:\n\u001b[0;32m-> 3512\u001b[0m         \u001b[38;5;28;01mraise\u001b[39;00m \u001b[38;5;167;01mKeyError\u001b[39;00m(unwrap(\n\u001b[1;32m   3513\u001b[0m             \u001b[38;5;124;03m'''\u001b[39;00m\n\u001b[1;32m   3514\u001b[0m \u001b[38;5;124;03m            No field named \"%s\" defined for %s\u001b[39;00m\n\u001b[1;32m   3515\u001b[0m \u001b[38;5;124;03m            '''\u001b[39;00m,\n\u001b[1;32m   3516\u001b[0m             key,\n\u001b[1;32m   3517\u001b[0m             type_name(\u001b[38;5;28mself\u001b[39m)\n\u001b[1;32m   3518\u001b[0m         ))\n\u001b[1;32m   3519\u001b[0m     key \u001b[38;5;241m=\u001b[39m \u001b[38;5;28mself\u001b[39m\u001b[38;5;241m.\u001b[39m_field_map[key]\n\u001b[1;32m   3521\u001b[0m \u001b[38;5;28;01mif\u001b[39;00m key \u001b[38;5;241m>\u001b[39m\u001b[38;5;241m=\u001b[39m \u001b[38;5;28mlen\u001b[39m(\u001b[38;5;28mself\u001b[39m\u001b[38;5;241m.\u001b[39mchildren):\n",
      "\u001b[0;31mKeyError\u001b[0m: 'No field named \"failInfo\" defined for asn1crypto.tsp.PKIStatusInfo'"
     ]
    }
   ],
   "source": [
    "# Requisito VI.12\n",
    "\n",
    "#certificate = open(PATH_CERTIFICADO, 'rb').read()\n",
    "#extensions = Extensions().subtype(implicitTag=tag.Tag(tag.tagClassContext, tag.tagFormatSimple, 0))#pode ser uma lista\n",
    "\n",
    "\n",
    "request = TimeStampRequest(data=\"texto\", \\\n",
    "                           url=\"http://192.168.88.25/tsp\", \\\n",
    "                           )\n",
    "\n",
    "tsr = request.send_query()\n",
    "parse_tsr(tsr)"
   ]
  },
  {
   "cell_type": "code",
   "execution_count": null,
   "metadata": {},
   "outputs": [],
   "source": []
  }
 ],
 "metadata": {
  "kernelspec": {
   "display_name": "Python 3",
   "language": "python",
   "name": "python3"
  },
  "language_info": {
   "codemirror_mode": {
    "name": "ipython",
    "version": 3
   },
   "file_extension": ".py",
   "mimetype": "text/x-python",
   "name": "python",
   "nbconvert_exporter": "python",
   "pygments_lexer": "ipython3",
   "version": "3.10.12"
  }
 },
 "nbformat": 4,
 "nbformat_minor": 2
}
