{
 "cells": [
  {
   "cell_type": "code",
   "execution_count": 1,
   "metadata": {},
   "outputs": [],
   "source": [
    "from TimeStampLib import TimeStampRequest, parse_tsr\n",
    "\n",
    "from pyasn1_modules.rfc2459 import Extensions\n",
    "from pyasn1.type import tag\n",
    "\n",
    "PATH_CERTIFICADO = \"certificado.pem\""
   ]
  },
  {
   "cell_type": "code",
   "execution_count": 2,
   "metadata": {},
   "outputs": [
    {
     "name": "stdout",
     "output_type": "stream",
     "text": [
      "============= Status Infos =============\n",
      "\n",
      "Status:  granted\n",
      "FailureInfo:  None\n",
      "StatusString:  None\n",
      "========================================\n",
      "\n",
      "============= Token Infos ==============\n",
      "Generation_time: 2023-12-20 15:55:17.095000+00:00\n",
      "Policy: 1.3.6.1.4.1.14975.2.1.0\n",
      "Serial_number: 46\n",
      "Nonce: 2300999989822720142\n",
      "Tem extensions?  True\n",
      "Hash_algorithm: sha256\n",
      "Hashed_message: b'M\\xfe\\x048\\xe4\\xfe\\x1d\\xe3\\xfaK\\x83\\xba\\x1d\\x18\\xbew%\\xa8\\xb0yY\\xd5\\x03\\xf6Q0\\x95\\x1e\\xfb}\\x16}'\n",
      "Tsa:\n",
      "      common_name :  LASPI\n",
      "      country_name :  BR\n",
      "      state_or_province_name :  RJ\n",
      "      locality_name :  Rio de Janeiro\n",
      "      organization_name :  LASPI-UFRJ\n",
      "      email_address :  guimaraes@laspi.ufrj.br\n",
      "      organizational_unit_name :  DEL-UFRJ\n",
      "========================================\n",
      "\n"
     ]
    }
   ],
   "source": [
    "# Requisito VI.12\n",
    "\n",
    "#certificate = open(PATH_CERTIFICADO, 'rb').read()\n",
    "#extensions = Extensions().subtype(implicitTag=tag.Tag(tag.tagClassContext, tag.tagFormatSimple, 0))#pode ser uma lista\n",
    "\n",
    "\n",
    "request = TimeStampRequest(url=\"http://192.168.88.25/tsp\", data=\"laspi\")\n",
    "\n",
    "tsr = request.send_query()\n",
    "parse_tsr(tsr)"
   ]
  },
  {
   "cell_type": "code",
   "execution_count": null,
   "metadata": {},
   "outputs": [],
   "source": []
  }
 ],
 "metadata": {
  "kernelspec": {
   "display_name": "Python 3",
   "language": "python",
   "name": "python3"
  },
  "language_info": {
   "codemirror_mode": {
    "name": "ipython",
    "version": 3
   },
   "file_extension": ".py",
   "mimetype": "text/x-python",
   "name": "python",
   "nbconvert_exporter": "python",
   "pygments_lexer": "ipython3",
   "version": "3.10.12"
  }
 },
 "nbformat": 4,
 "nbformat_minor": 2
}
