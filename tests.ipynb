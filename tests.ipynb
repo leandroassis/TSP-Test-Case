{
 "cells": [
  {
   "cell_type": "code",
   "execution_count": 1,
   "metadata": {},
   "outputs": [],
   "source": [
    "from TimeStampLib import TimeStampRequest, parse_tsr\n",
    "\n",
    "from pyasn1_modules.rfc2459 import Extensions\n",
    "from pyasn1.type import tag\n",
    "\n",
    "PATH_CERTIFICADO = \"certificado.pem\""
   ]
  },
  {
   "cell_type": "code",
   "execution_count": 4,
   "metadata": {},
   "outputs": [
    {
     "name": "stdout",
     "output_type": "stream",
     "text": [
      "Status Infos\n",
      "Status:  granted\n",
      "FailureInfo:  None\n",
      "StatusString:  None\n"
     ]
    }
   ],
   "source": [
    "# Requisito VI.12\n",
    "\n",
    "#certificate = open(PATH_CERTIFICADO, 'rb').read()\n",
    "#extensions = Extensions().subtype(implicitTag=tag.Tag(tag.tagClassContext, tag.tagFormatSimple, 0))#pode ser uma lista\n",
    "\n",
    "\n",
    "request = TimeStampRequest(data=\"texto\", \\\n",
    "                           url=\"http://192.168.88.25/tsp\", \\\n",
    "                           hash_alg=\"sha256\", \\\n",
    "                           )\n",
    "\n",
    "tsr = request.send_query()\n",
    "parse_tsr(tsr, tsq_had_error=True)"
   ]
  },
  {
   "cell_type": "code",
   "execution_count": null,
   "metadata": {},
   "outputs": [],
   "source": []
  }
 ],
 "metadata": {
  "kernelspec": {
   "display_name": "Python 3",
   "language": "python",
   "name": "python3"
  },
  "language_info": {
   "codemirror_mode": {
    "name": "ipython",
    "version": 3
   },
   "file_extension": ".py",
   "mimetype": "text/x-python",
   "name": "python",
   "nbconvert_exporter": "python",
   "pygments_lexer": "ipython3",
   "version": "3.10.12"
  }
 },
 "nbformat": 4,
 "nbformat_minor": 2
}
