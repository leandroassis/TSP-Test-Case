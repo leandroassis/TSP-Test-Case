{
 "cells": [
  {
   "cell_type": "code",
   "execution_count": null,
   "metadata": {},
   "outputs": [],
   "source": [
    "from TimeStampLib import TimeStampRequest, parse_tsr\n",
    "from asn1crypto import tsp\n",
    "\n",
    "\n",
    "PATH_CERTIFICADO = \"certificado.pem\""
   ]
  },
  {
   "cell_type": "code",
   "execution_count": null,
   "metadata": {},
   "outputs": [],
   "source": [
    "# Requisito VI.12\n",
    "\n",
    "#certificate = open(PATH_CERTIFICADO, 'rb').read()\n",
    "\n",
    "\n",
    "request = TimeStampRequest(data=\"texto\", \\\n",
    "                           url=\"http://192.168.88.25/tsp\", \\\n",
    "                           )\n",
    "\n",
    "tsr = request.send_query()\n",
    "parser_tsr(tsr)"
   ]
  },
  {
   "cell_type": "code",
   "execution_count": null,
   "metadata": {},
   "outputs": [],
   "source": []
  }
 ],
 "metadata": {
  "language_info": {
   "name": "python"
  }
 },
 "nbformat": 4,
 "nbformat_minor": 2
}
